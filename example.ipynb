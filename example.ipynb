{
 "cells": [
  {
   "cell_type": "code",
   "execution_count": null,
   "id": "cb491056-1895-4810-90c0-715d4ee8849e",
   "metadata": {},
   "outputs": [],
   "source": [
    "from src.knapsack import KnapsackEnv\n",
    "import gymnasium as gym"
   ]
  },
  {
   "cell_type": "code",
   "execution_count": null,
   "id": "ed85a554-5d39-4eea-9de6-15eea088fab9",
   "metadata": {},
   "outputs": [],
   "source": [
    "gym.register(\n",
    "    id=\"gymnasium_env/Knapsack-v0\",\n",
    "    entry_point=KnapsackEnv\n",
    ")"
   ]
  },
  {
   "cell_type": "code",
   "execution_count": null,
   "id": "01795db5-5553-4c4b-890e-146cf87176fe",
   "metadata": {},
   "outputs": [],
   "source": [
    "# N defines the number of items\n",
    "# W defines the max weight for the knapsack\n",
    "env = gym.make(\"gymnasium_env/Knapsack-v0\", N=5, W=150)"
   ]
  },
  {
   "cell_type": "code",
   "execution_count": null,
   "id": "8aad73bf-c773-480e-a391-59bbf762309d",
   "metadata": {},
   "outputs": [],
   "source": [
    "env.reset()"
   ]
  },
  {
   "cell_type": "code",
   "execution_count": null,
   "id": "58a64bf8-2964-441d-950f-e07dca4af728",
   "metadata": {},
   "outputs": [],
   "source": [
    "env.render()"
   ]
  },
  {
   "cell_type": "code",
   "execution_count": null,
   "id": "6a2b81d6-2111-4069-a463-57c7f1f39386",
   "metadata": {},
   "outputs": [],
   "source": [
    "next_state, reward, done, _, _ = env.step(4)\n",
    "next_state, reward, done, _, _ = env.step(3)\n",
    "next_state, reward, done, _, _ = env.step(2)"
   ]
  },
  {
   "cell_type": "code",
   "execution_count": null,
   "id": "bf7cb4cc-c367-47d5-9227-b01e54fe6f75",
   "metadata": {},
   "outputs": [],
   "source": [
    "print(\"Environment Done: \", done)\n",
    "env.render()"
   ]
  },
  {
   "cell_type": "code",
   "execution_count": null,
   "id": "ee9b769b-e8b2-427f-a0fb-cd06bf1151be",
   "metadata": {},
   "outputs": [],
   "source": []
  }
 ],
 "metadata": {
  "kernelspec": {
   "display_name": "Python [conda env:knapsack]",
   "language": "python",
   "name": "conda-env-knapsack-py"
  },
  "language_info": {
   "codemirror_mode": {
    "name": "ipython",
    "version": 3
   },
   "file_extension": ".py",
   "mimetype": "text/x-python",
   "name": "python",
   "nbconvert_exporter": "python",
   "pygments_lexer": "ipython3",
   "version": "3.13.1"
  }
 },
 "nbformat": 4,
 "nbformat_minor": 5
}
